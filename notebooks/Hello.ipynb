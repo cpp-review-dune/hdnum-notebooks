{
 "cells": [
  {
   "cell_type": "markdown",
   "id": "d25f37b1",
   "metadata": {},
   "source": [
    "## HDNum"
   ]
  },
  {
   "cell_type": "markdown",
   "metadata": {},
   "source": [
    "[](https://xeus-cling.readthedocs.io)\n",
    "[](https://github.com/jupyter-xeus/xeus-cling/issues/87)"
   ]
  },
  {
   "cell_type": "code",
   "execution_count": 2,
   "id": "57af8c51",
   "metadata": {},
   "outputs": [],
   "source": [
    "#include <iostream>"
   ]
  },
  {
   "cell_type": "code",
   "execution_count": 3,
   "id": "1c55cfb0",
   "metadata": {},
   "outputs": [
    {
     "name": "stdout",
     "output_type": "stream",
     "text": [
      "Hola mundo\n"
     ]
    }
   ],
   "source": [
    "std::cout << \"Hola mundo\" << std::endl;"
   ]
  },
  {
   "cell_type": "markdown",
   "id": "aeea318f",
   "metadata": {},
   "source": [
    "```cpp\n",
    "#pragma cling add_include_path(\"inc_directory\")\n",
    "#pragma cling add_library_path(\"lib_directory\")\n",
    "#pragma cling load(\"libname\")\n",
    "```\n",
    "\n",
    "```\n",
    "CC = clang++\n",
    "CCFLAGS = -I$(HDNUMPATH) -std=c++11 -O3\n",
    "GMPCCFLAGS = -DHDNUM_HAS_GMP=1 -I/usr/include\n",
    "LFLAGS = -lm\n",
    "GMPLFLAGS = -L/usr/lib -lgmpxx -lgmp\n",
    "```"
   ]
  },
  {
   "cell_type": "code",
   "execution_count": 4,
   "id": "1af8aba9",
   "metadata": {},
   "outputs": [],
   "source": [
    "#pragma cling add_include_path(\"../hdnum.hh\")"
   ]
  },
  {
   "cell_type": "code",
   "execution_count": 6,
   "id": "cb52d71a",
   "metadata": {},
   "outputs": [],
   "source": [
    "#include \"../hdnum.hh\"    // hdnum header"
   ]
  },
  {
   "cell_type": "code",
   "execution_count": 8,
   "id": "d5b50f1e",
   "metadata": {},
   "outputs": [],
   "source": [
    "hdnum::Vector<float> y(10, 1);"
   ]
  },
  {
   "cell_type": "code",
   "execution_count": 9,
   "id": "22164f4a",
   "metadata": {},
   "outputs": [
    {
     "name": "stdout",
     "output_type": "stream",
     "text": [
      "\n",
      "[ 0]  1.0000000e+00\n",
      "[ 1]  1.0000000e+00\n",
      "[ 2]  1.0000000e+00\n",
      "[ 3]  1.0000000e+00\n",
      "[ 4]  1.0000000e+00\n",
      "[ 5]  1.0000000e+00\n",
      "[ 6]  1.0000000e+00\n",
      "[ 7]  1.0000000e+00\n",
      "[ 8]  1.0000000e+00\n",
      "[ 9]  1.0000000e+00\n",
      "\n"
     ]
    }
   ],
   "source": [
    "std::cout << y << std::endl;"
   ]
  },
  {
   "cell_type": "code",
   "execution_count": 10,
   "id": "928ef8a5",
   "metadata": {},
   "outputs": [],
   "source": [
    "#include <string>"
   ]
  },
  {
   "cell_type": "code",
   "execution_count": 11,
   "id": "2d6d2027",
   "metadata": {},
   "outputs": [],
   "source": [
    "std::string nombre = \"HDNum\";"
   ]
  },
  {
   "cell_type": "code",
   "execution_count": 12,
   "id": "c73271df",
   "metadata": {},
   "outputs": [
    {
     "name": "stdout",
     "output_type": "stream",
     "text": [
      "HDNum\n"
     ]
    }
   ],
   "source": [
    "std::cout << nombre << \"\\n\";"
   ]
  },
  {
   "cell_type": "markdown",
   "id": "eab8729e",
   "metadata": {},
   "source": [
    "$\\int$"
   ]
  },
  {
   "cell_type": "markdown",
   "id": "44351e01",
   "metadata": {},
   "source": []
  },
  {
   "cell_type": "code",
   "execution_count": null,
   "id": "8342939b",
   "metadata": {},
   "outputs": [],
   "source": []
  }
 ],
 "metadata": {
  "kernelspec": {
   "display_name": "C++11 (xeus)",
   "language": "C++11",
   "name": "xcpp11"
  },
  "language_info": {
   "codemirror_mode": "text/x-c++src",
   "file_extension": ".cpp",
   "mimetype": "text/x-c++src",
   "name": "c++",
   "version": "11"
  }
 },
 "nbformat": 4,
 "nbformat_minor": 5
}
